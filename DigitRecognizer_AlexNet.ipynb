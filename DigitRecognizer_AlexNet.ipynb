{
 "cells": [
  {
   "cell_type": "code",
   "execution_count": null,
   "metadata": {
    "collapsed": true
   },
   "outputs": [],
   "source": [
    "import numpy as np\n",
    "import tensorflow as tf\n",
    "\n",
    "from sklearn.model_selection import train_test_split\n",
    "\n",
    "SEED = 123"
   ]
  },
  {
   "cell_type": "code",
   "execution_count": null,
   "metadata": {},
   "outputs": [],
   "source": [
    "data_train = np.genfromtxt(\"train.csv\", delimiter=',', dtype=np.float32)\n",
    "data_test  = np.genfromtxt(\"test.csv\",  delimiter=',', dtype=np.float32)"
   ]
  },
  {
   "cell_type": "code",
   "execution_count": null,
   "metadata": {},
   "outputs": [],
   "source": [
    "#label,pixel0,pixel1,pixel2,..,pixel783\n",
    "X_train = data_train[1:,1:]   #(42000, 784)\n",
    "y_train = data_train[1:,0:1]  #(42000, 1)\n",
    "X_test  = data_test[1:,:]     #(28000, 784)\n",
    "\n",
    "print(\"X_train.shape: {}\".format(X_train.shape))\n",
    "print(\"X_test.shape: {}\".format(X_test.shape))"
   ]
  },
  {
   "cell_type": "code",
   "execution_count": null,
   "metadata": {},
   "outputs": [],
   "source": [
    "X_train = X_train.reshape((-1,28,28,1)) #(42000, 28, 28, 1)\n",
    "X_test  = X_test.reshape((-1,28,28,1)) #(42000, 28, 28, 1)\n",
    "\n",
    "\n",
    "X_train = X_train / 255.0\n",
    "X_test  = X_test / 255.0\n",
    "\n",
    "X_train, X_val, y_train, y_val = train_test_split(X_train, y_train, test_size=0.20, random_state=SEED)\n",
    "\n",
    "print(\"X_train.shape: {}\".format(X_train.shape))  #(33600, 28, 28, 1)\n",
    "print(\"X_val.shape: {}\".format(X_val.shape))      #(8400, 28, 28, 1)\n",
    "print(\"X_test.shape: {}\".format(X_test.shape))    #(28000, 28, 28, 1)"
   ]
  },
  {
   "cell_type": "code",
   "execution_count": null,
   "metadata": {
    "collapsed": true
   },
   "outputs": [],
   "source": [
    "# Model: AlexNet Ver:1\n",
    "\n",
    "def cnn_model_fn( features, labels, mode):\n",
    "    # Kaggle Scoring: 0.98714\n",
    "    # Train metrics: {'accuracy': 0.9946726, 'loss': 0.02303471, 'global_step': 10500}\n",
    "    # Val metrics: {'accuracy': 0.98952383, 'loss': 0.045152489, 'global_step': 10500}\n",
    "    \n",
    "    # Conv1: 28x28@96\n",
    "    model = tf.layers.conv2d( \n",
    "        inputs = features[\"x\"], \n",
    "        filters = 96, \n",
    "        kernel_size = [5, 5],\n",
    "        strides = 1, \n",
    "        padding = \"SAME\",\n",
    "        activation = tf.nn.relu)\n",
    "    \n",
    "    # Conv2: 13x13@256\n",
    "    model = tf.layers.conv2d( \n",
    "        inputs = model, \n",
    "        filters = 256, \n",
    "        kernel_size = [5, 5],\n",
    "        strides = 1, \n",
    "        padding = \"SAME\",\n",
    "        activation = tf.nn.relu)\n",
    "    model = tf.layers.max_pooling2d( \n",
    "        inputs = model,\n",
    "        pool_size = [ 3, 3],\n",
    "        strides = 2)\n",
    "    \n",
    "    # Conv3: 13x13@384\n",
    "    model = tf.layers.conv2d( \n",
    "        inputs = model, \n",
    "        filters = 384, \n",
    "        kernel_size = [3, 3],\n",
    "        strides = 1, \n",
    "        padding = \"SAME\",\n",
    "        activation = tf.nn.relu)\n",
    "    \n",
    "    # Conv4: 13x13@384\n",
    "    model = tf.layers.conv2d( \n",
    "        inputs = model, \n",
    "        filters = 384, \n",
    "        kernel_size = [3, 3],\n",
    "        strides = 1, \n",
    "        padding = \"SAME\",\n",
    "        activation = tf.nn.relu)\n",
    "    \n",
    "    # Conv5: 6x6@256\n",
    "    model = tf.layers.conv2d( \n",
    "        inputs = model, \n",
    "        filters = 256, \n",
    "        kernel_size = [3, 3],\n",
    "        strides = 1, \n",
    "        padding = \"SAME\",\n",
    "        activation = tf.nn.relu)\n",
    "    model = tf.layers.max_pooling2d( \n",
    "        inputs = model,\n",
    "        pool_size = [ 3, 3],\n",
    "        strides = 2)\n",
    "    \n",
    "    model = tf.layers.flatten( inputs = model) # 9216 nodes\n",
    "    \n",
    "    # FC\n",
    "    model = tf.layers.dense( \n",
    "        inputs = model,\n",
    "        units = 4096,\n",
    "        activation = tf.nn.relu)\n",
    "\n",
    "    model = tf.layers.dense( \n",
    "        inputs = model,\n",
    "        units = 4096,\n",
    "        activation = tf.nn.relu)\n",
    "\n",
    "    # Output (softmax)\n",
    "    logits = tf.layers.dense( model, 10, name = \"output_tensor\")\n",
    "    \n",
    "    predictions = {\n",
    "        \"classes\": tf.argmax( logits, axis=1),\n",
    "        \"probabilities\": tf.nn.softmax( logits, name=\"softmax_tensor\")\n",
    "    }\n",
    "    \n",
    "    \n",
    "    # PREDICT\n",
    "    if mode == tf.estimator.ModeKeys.PREDICT:\n",
    "        return tf.estimator.EstimatorSpec(mode = mode, predictions = predictions)\n",
    "    \n",
    "    \n",
    "    # TRAIN\n",
    "    onehot_labels = tf.one_hot( indices = tf.cast(labels, tf.int32), depth = 10)\n",
    "    cost = tf.reduce_mean( tf.nn.softmax_cross_entropy_with_logits( \n",
    "        logits=logits, \n",
    "        labels=onehot_labels), name=\"cost_tensor\")\n",
    "    \n",
    "    if mode == tf.estimator.ModeKeys.TRAIN:\n",
    "        train_op = tf.train.AdamOptimizer().minimize( cost, global_step=tf.train.get_global_step())\n",
    "        return tf.estimator.EstimatorSpec(mode = mode, loss = cost, train_op = train_op)\n",
    "    \n",
    "    \n",
    "    # EVAL\n",
    "    eval_metrics_ops = {\n",
    "        \"accuracy\": tf.metrics.accuracy(\n",
    "            labels = labels, \n",
    "            predictions = predictions[\"classes\"])\n",
    "    }\n",
    "    return tf.estimator.EstimatorSpec( mode = mode, loss = cost, eval_metric_ops = eval_metrics_ops)"
   ]
  },
  {
   "cell_type": "code",
   "execution_count": null,
   "metadata": {
    "collapsed": true
   },
   "outputs": [],
   "source": [
    "def train_model( X_train, y_train, X_val, y_val):\n",
    "    model = tf.estimator.Estimator(\n",
    "        model_fn = cnn_model_fn)#,\n",
    "        #model_dir=\"/tmp/cnn_digits_model\")\n",
    "\n",
    "    model.train(\n",
    "        input_fn = tf.estimator.inputs.numpy_input_fn(\n",
    "            x = {\"x\": X_train},\n",
    "            y = y_train,\n",
    "            batch_size = 32,\n",
    "            num_epochs = 10,\n",
    "            shuffle = True))\n",
    "\n",
    "    # Model performance\n",
    "    train_metrics = model.evaluate(\n",
    "        input_fn = tf.estimator.inputs.numpy_input_fn(\n",
    "            x = {\"x\": X_train},\n",
    "            y = y_train,\n",
    "            batch_size = 32,\n",
    "            num_epochs = 1,\n",
    "            shuffle = True))\n",
    "    print(\">> Train metrics: %r\"% train_metrics)\n",
    "\n",
    "    val_metrics = model.evaluate(\n",
    "        input_fn = tf.estimator.inputs.numpy_input_fn(\n",
    "            x = {\"x\": X_val},\n",
    "            y = y_val,\n",
    "            batch_size = 32,\n",
    "            num_epochs = 1,\n",
    "            shuffle = True))\n",
    "    print(\">> Val metrics: %r\"% val_metrics)\n",
    "    \n",
    "    return model"
   ]
  },
  {
   "cell_type": "code",
   "execution_count": null,
   "metadata": {
    "collapsed": true
   },
   "outputs": [],
   "source": [
    "def predict_digits( model, X_test):\n",
    "    predictions = model.predict(\n",
    "        input_fn = tf.estimator.inputs.numpy_input_fn(\n",
    "            x = {\"x\": X_test},\n",
    "            num_epochs = 1,\n",
    "            shuffle = False))\n",
    "    \n",
    "    csv = open( \"digit_prediction.csv\", \"w\")\n",
    "    csv.write(\"ImageId,Label\\n\")\n",
    "    for i, pred in enumerate(predictions):\n",
    "        csv.write(\"{},{}\\n\".format( i+1, pred[\"classes\"]))\n",
    "    csv.close()"
   ]
  },
  {
   "cell_type": "code",
   "execution_count": null,
   "metadata": {},
   "outputs": [],
   "source": [
    "tf.logging.set_verbosity(tf.logging.INFO)\n",
    "\n",
    "with tf.Session() as sess:\n",
    "    tf.set_random_seed( SEED)\n",
    "    model = train_model( X_train, y_train, X_val, y_val)\n",
    "    predict_digits( model, X_test)"
   ]
  },
  {
   "cell_type": "code",
   "execution_count": null,
   "metadata": {
    "collapsed": true
   },
   "outputs": [],
   "source": []
  }
 ],
 "metadata": {
  "kernelspec": {
   "display_name": "Python 3",
   "language": "python",
   "name": "python3"
  },
  "language_info": {
   "codemirror_mode": {
    "name": "ipython",
    "version": 3
   },
   "file_extension": ".py",
   "mimetype": "text/x-python",
   "name": "python",
   "nbconvert_exporter": "python",
   "pygments_lexer": "ipython3",
   "version": "3.5.4"
  }
 },
 "nbformat": 4,
 "nbformat_minor": 2
}
